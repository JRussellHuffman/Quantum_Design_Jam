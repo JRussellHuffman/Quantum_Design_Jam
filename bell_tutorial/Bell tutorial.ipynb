{
 "cells": [
  {
   "cell_type": "code",
   "execution_count": 10,
   "id": "2e97234a-b14c-4e48-a9ae-e93d777917b8",
   "metadata": {},
   "outputs": [
    {
     "name": "stderr",
     "output_type": "stream",
     "text": [
      "ibmqfactory.load_account:WARNING:2021-08-24 21:02:27,714: Credentials are already in use. The existing account in the session will be replaced.\n"
     ]
    }
   ],
   "source": [
    "import numpy as np\n",
    "\n",
    "# Importing standard Qiskit libraries\n",
    "from qiskit import QuantumCircuit, transpile, Aer, IBMQ, execute\n",
    "from qiskit.tools.jupyter import *\n",
    "from qiskit.visualization import *\n",
    "from ibm_quantum_widgets import *\n",
    "from qiskit.providers.aer import QasmSimulator\n",
    "\n",
    "# Loading your IBM Quantum account(s)\n",
    "provider = IBMQ.load_account()"
   ]
  },
  {
   "cell_type": "code",
   "execution_count": 11,
   "id": "9bba4fda-0b3f-41f9-bc27-57f53306c20b",
   "metadata": {},
   "outputs": [
    {
     "data": {
      "image/png": "[encoded data removed]",
      "text/plain": [
       "<Figure size 327.252x204.68 with 1 Axes>"
      ]
     },
     "execution_count": 11,
     "metadata": {},
     "output_type": "execute_result"
    }
   ],
   "source": [
    "circuit = QuantumCircuit(2, 2)\n",
    "\n",
    "circuit.h(0)\n",
    "circuit.cx(0, 1)\n",
    "circuit.measure([0,1], [0,1])\n",
    "\n",
    "circuit.draw()"
   ]
  },
  {
   "cell_type": "code",
   "execution_count": 13,
   "id": "0fd2a912-5397-433f-9a89-034e3bdb7337",
   "metadata": {},
   "outputs": [],
   "source": [
    "#pick a device to run on\n",
    "# backend = provider.get_backend('ibmq_bogota')\n",
    "backend = Aer.get_backend('qasm_simulator')\n",
    "\n",
    "# Execute the circuit on the backend\n",
    "job = execute(circuit, backend, shots=1000, memory=True)\n",
    "\n",
    "# Grab results from the job\n",
    "result = job.result()\n",
    "\n",
    "#get individual shots\n",
    "memory = result.get_memory()\n",
    "\n",
    "# need an array to drop all the results into\n",
    "outputArray = []\n",
    "\n",
    "#convert results to int and drop into array\n",
    "for x in range(0, 1000):\n",
    "    outputArray.append(memory[x])\n",
    "    \n",
    "print(outputArray)"
   ]
  },
  {
   "cell_type": "code",
   "execution_count": null,
   "id": "c49a0599-a1f0-4ed0-b7ae-c27508975602",
   "metadata": {},
   "outputs": [],
   "source": [
    "%%capture cap --no-stderr\n",
    "print(outputArray)"
   ]
  },
  {
   "cell_type": "code",
   "execution_count": null,
   "id": "a9da920f-66cf-4c6f-aa66-8348b65920a7",
   "metadata": {},
   "outputs": [],
   "source": [
    "with open('corpus.txt', 'w') as f:\n",
    "    f.write(cap.stdout)"
   ]
  }
 ],
 "metadata": {
  "kernelspec": {
   "display_name": "Qiskit v0.29.0",
   "language": "python",
   "name": "python3"
  },
  "language_info": {
   "codemirror_mode": {
    "name": "ipython",
    "version": 3
   },
   "file_extension": ".py",
   "mimetype": "text/x-python",
   "name": "python",
   "nbconvert_exporter": "python",
   "pygments_lexer": "ipython3",
   "version": "3.8.10"
  },
  "widgets": {
   "application/vnd.jupyter.widget-state+json": {
    "state": {
     "088dc1a1360d4c928738338f31141683": {
      "model_module": "@jupyter-widgets/controls",
      "model_module_version": "1.5.0",
      "model_name": "HTMLModel",
      "state": {
       "layout": "IPY_MODEL_db9136a226614215a62db782141d4907",
       "style": "IPY_MODEL_12911c2ae021449194877674a488a545",
       "value": "<h5>Message</h5>"
      }
     },
     "12911c2ae021449194877674a488a545": {
      "model_module": "@jupyter-widgets/controls",
      "model_module_version": "1.5.0",
      "model_name": "DescriptionStyleModel",
      "state": {
       "description_width": ""
      }
     },
     "1305d6ec8e4741a48e2266b02bc1d41c": {
      "model_module": "@jupyter-widgets/controls",
      "model_module_version": "1.5.0",
      "model_name": "ButtonStyleModel",
      "state": {}
     },
     "30fa47a814d34729922c506bb2831e0b": {
      "model_module": "@jupyter-widgets/base",
      "model_module_version": "1.2.0",
      "model_name": "LayoutModel",
      "state": {
       "width": "145px"
      }
     },
     "39404450c8e948df915aff8d4fb90a8c": {
      "model_module": "@jupyter-widgets/controls",
      "model_module_version": "1.5.0",
      "model_name": "HTMLModel",
      "state": {
       "layout": "IPY_MODEL_b38327a1d09341c48d64efd7cc7c7c92",
       "style": "IPY_MODEL_a45b0eaeae07438dad129526c0c6f37e",
       "value": "<h5>Queue</h5>"
      }
     },
     "41918d388da3430a86e87c70f3f56e11": {
      "model_module": "@jupyter-widgets/controls",
      "model_module_version": "1.5.0",
      "model_name": "DescriptionStyleModel",
      "state": {
       "description_width": ""
      }
     },
     "42ff168e4d14486897ee5b84276cfe09": {
      "model_module": "@jupyter-widgets/base",
      "model_module_version": "1.2.0",
      "model_name": "LayoutModel",
      "state": {
       "grid_area": "right",
       "padding": "0px 0px 0px 0px",
       "width": "70px"
      }
     },
     "522e6332775c4fa79cb830829f74bef2": {
      "model_module": "@jupyter-widgets/controls",
      "model_module_version": "1.5.0",
      "model_name": "HTMLModel",
      "state": {
       "layout": "IPY_MODEL_30fa47a814d34729922c506bb2831e0b",
       "style": "IPY_MODEL_f86d18b76c444a62899928b5e30ad0a8",
       "value": "<h5>Backend</h5>"
      }
     },
     "5673e3f97da84c4fa8944cfdf6fdbf2d": {
      "model_module": "@jupyter-widgets/controls",
      "model_module_version": "1.5.0",
      "model_name": "ButtonModel",
      "state": {
       "button_style": "primary",
       "description": "Clear",
       "layout": "IPY_MODEL_42ff168e4d14486897ee5b84276cfe09",
       "style": "IPY_MODEL_1305d6ec8e4741a48e2266b02bc1d41c"
      }
     },
     "5dcf6dfe46c64f24857d1cd1b20501d1": {
      "model_module": "@jupyter-widgets/base",
      "model_module_version": "1.2.0",
      "model_name": "LayoutModel",
      "state": {
       "grid_template_areas": "\n                                       \". . . . right \"\n                                        ",
       "grid_template_columns": "20% 20% 20% 20% 20%",
       "width": "100%"
      }
     },
     "5e7bcfaee1b6487e93664b67975b9ee5": {
      "model_module": "@jupyter-widgets/controls",
      "model_module_version": "1.5.0",
      "model_name": "HTMLModel",
      "state": {
       "layout": "IPY_MODEL_ce057aec17ef48fdaaaaaf5c59df800a",
       "style": "IPY_MODEL_cee88d2500794f4da2654bd566000c19",
       "value": "<p style='font-family: IBM Plex Sans, Arial, Helvetica, sans-serif; font-size: 20px; font-weight: medium;'>Circuit Properties</p>"
      }
     },
     "6bae033fe963472f8bf84e532624f1d7": {
      "model_module": "@jupyter-widgets/controls",
      "model_module_version": "1.5.0",
      "model_name": "HTMLModel",
      "state": {
       "layout": "IPY_MODEL_8267448c4b61420abfa25080e1d57d21",
       "style": "IPY_MODEL_41918d388da3430a86e87c70f3f56e11",
       "value": "<h5>Job ID</h5>"
      }
     },
     "776234be67e549db95baa1bd506909c4": {
      "model_module": "@jupyter-widgets/controls",
      "model_module_version": "1.5.0",
      "model_name": "HBoxModel",
      "state": {
       "children": [
        "IPY_MODEL_6bae033fe963472f8bf84e532624f1d7",
        "IPY_MODEL_522e6332775c4fa79cb830829f74bef2",
        "IPY_MODEL_c4d22ac5ab4b498f92e97ae9f087b06a",
        "IPY_MODEL_39404450c8e948df915aff8d4fb90a8c",
        "IPY_MODEL_088dc1a1360d4c928738338f31141683"
       ],
       "layout": "IPY_MODEL_f093d710bed34bc19e4b72cc42ef2e8b"
      }
     },
     "8267448c4b61420abfa25080e1d57d21": {
      "model_module": "@jupyter-widgets/base",
      "model_module_version": "1.2.0",
      "model_name": "LayoutModel",
      "state": {
       "width": "190px"
      }
     },
     "827912594b6c4bbb920947ceaa3512f8": {
      "model_module": "@jupyter-widgets/controls",
      "model_module_version": "1.5.0",
      "model_name": "GridBoxModel",
      "state": {
       "children": [
        "IPY_MODEL_5673e3f97da84c4fa8944cfdf6fdbf2d"
       ],
       "layout": "IPY_MODEL_5dcf6dfe46c64f24857d1cd1b20501d1"
      }
     },
     "a45b0eaeae07438dad129526c0c6f37e": {
      "model_module": "@jupyter-widgets/controls",
      "model_module_version": "1.5.0",
      "model_name": "DescriptionStyleModel",
      "state": {
       "description_width": ""
      }
     },
     "aab7dd8b178f4d318012a06c41ba1f29": {
      "model_module": "@jupyter-widgets/base",
      "model_module_version": "1.2.0",
      "model_name": "LayoutModel",
      "state": {
       "width": "95px"
      }
     },
     "b38327a1d09341c48d64efd7cc7c7c92": {
      "model_module": "@jupyter-widgets/base",
      "model_module_version": "1.2.0",
      "model_name": "LayoutModel",
      "state": {
       "width": "70px"
      }
     },
     "c4d22ac5ab4b498f92e97ae9f087b06a": {
      "model_module": "@jupyter-widgets/controls",
      "model_module_version": "1.5.0",
      "model_name": "HTMLModel",
      "state": {
       "layout": "IPY_MODEL_aab7dd8b178f4d318012a06c41ba1f29",
       "style": "IPY_MODEL_c56bedcf3c2c49a2b4b5d1a75f467906",
       "value": "<h5>Status</h5>"
      }
     },
     "c56bedcf3c2c49a2b4b5d1a75f467906": {
      "model_module": "@jupyter-widgets/controls",
      "model_module_version": "1.5.0",
      "model_name": "DescriptionStyleModel",
      "state": {
       "description_width": ""
      }
     },
     "ce057aec17ef48fdaaaaaf5c59df800a": {
      "model_module": "@jupyter-widgets/base",
      "model_module_version": "1.2.0",
      "model_name": "LayoutModel",
      "state": {
       "margin": "0px 0px 10px 0px"
      }
     },
     "cee88d2500794f4da2654bd566000c19": {
      "model_module": "@jupyter-widgets/controls",
      "model_module_version": "1.5.0",
      "model_name": "DescriptionStyleModel",
      "state": {
       "description_width": ""
      }
     },
     "db9136a226614215a62db782141d4907": {
      "model_module": "@jupyter-widgets/base",
      "model_module_version": "1.2.0",
      "model_name": "LayoutModel",
      "state": {}
     },
     "f093d710bed34bc19e4b72cc42ef2e8b": {
      "model_module": "@jupyter-widgets/base",
      "model_module_version": "1.2.0",
      "model_name": "LayoutModel",
      "state": {
       "margin": "0px 0px 0px 37px",
       "width": "600px"
      }
     },
     "f86d18b76c444a62899928b5e30ad0a8": {
      "model_module": "@jupyter-widgets/controls",
      "model_module_version": "1.5.0",
      "model_name": "DescriptionStyleModel",
      "state": {
       "description_width": ""
      }
     }
    },
    "version_major": 2,
    "version_minor": 0
   }
  }
 },
 "nbformat": 4,
 "nbformat_minor": 5
}
